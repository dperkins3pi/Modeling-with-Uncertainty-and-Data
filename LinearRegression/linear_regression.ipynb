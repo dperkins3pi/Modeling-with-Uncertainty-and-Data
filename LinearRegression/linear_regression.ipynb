{
 "cells": [
  {
   "attachments": {},
   "cell_type": "markdown",
   "id": "d68bd080",
   "metadata": {},
   "source": [
    "# Volume 3: Linear Regression\n",
    "    Daniel Perkins\n",
    "    MATH 403\n",
    "    10/29/24"
   ]
  },
  {
   "cell_type": "code",
   "execution_count": 1,
   "id": "03f34593",
   "metadata": {},
   "outputs": [],
   "source": [
    "import numpy as np\n",
    "import pandas as pd\n",
    "import time\n",
    "import statsmodels.api as sm\n",
    "from sklearn import linear_model\n",
    "from itertools import combinations\n",
    "from matplotlib import pyplot as plt"
   ]
  },
  {
   "attachments": {},
   "cell_type": "markdown",
   "id": "55a959b8",
   "metadata": {},
   "source": [
    "## Problem 1\n",
    "Write a function that takes as input $X$ and **y** as defined on page 1. Call this function **ols**. This function should return the least squares estimator for $\\beta$ as a numpy array."
   ]
  },
  {
   "cell_type": "code",
   "execution_count": 41,
   "id": "b9c9bd9e",
   "metadata": {},
   "outputs": [],
   "source": [
    "def ols(X, y):\n",
    "    \"\"\"\n",
    "    Solves for the least squares estimator.\n",
    "    Add a column of 1s to X.\n",
    "    Parameters:\n",
    "        X: n x d numpyarray\n",
    "        y: n x 1 numpyarray\n",
    "    Returns:\n",
    "        beta: d x 1 numpyarray\n",
    "    \"\"\"\n",
    "    # If we only get 1-D input, make it 2D\n",
    "    if y.ndim == 1:\n",
    "        y = y.reshape(-1, 1)\n",
    "    if X.ndim == 1:\n",
    "        X = X.reshape(-1, 1)   \n",
    "    X = np.hstack((np.ones((len(X), 1)), X))  # Add column of ones\n",
    "    Beta = np.linalg.solve(X.T@X, X.T@y)      # Equation 12.1\n",
    "    return Beta"
   ]
  },
  {
   "attachments": {},
   "cell_type": "markdown",
   "id": "de74d716",
   "metadata": {},
   "source": [
    "## Problem 2\n",
    "Find the least squares estimator for $\\beta$ using this random data. \n",
    "Produce a plot showing the random data and the line of best fit determined by the least squares estimator for $\\beta$. \n",
    "Your plot should include a title, axis labels, and a legend. "
   ]
  },
  {
   "cell_type": "code",
   "execution_count": 54,
   "id": "5f6f6271",
   "metadata": {},
   "outputs": [
    {
     "data": {
      "image/png": "[encoded data removed]",
      "text/plain": [
       "<Figure size 640x480 with 1 Axes>"
      ]
     },
     "metadata": {},
     "output_type": "display_data"
    }
   ],
   "source": [
    "n = 100 # Number of points to generate\n",
    "X = np.arange(100) # The input X for the function ols\n",
    "eps = np.random.uniform(-10, 10, size=(100,)) # Noise to generate random y←-coordinates\n",
    "y = .3*X + 3 + eps # The input y for the function ols\n",
    "# Reshape input and output to make it 2-D \n",
    "y = y.reshape(-1, 1)\n",
    "X = X.reshape(-1, 1)\n",
    "\n",
    "# Find least squares solution\n",
    "beta = ols(X, y)\n",
    "\n",
    "plt.title(\"Least Squares Solution\")\n",
    "plt.scatter(X, y, label=\"Data\")\n",
    "plt.plot(X, beta[0] + X@beta[1:], color=\"red\", label=\"Least Squares\")\n",
    "plt.xlabel(\"x\")\n",
    "plt.ylabel(\"y\")\n",
    "plt.legend()\n",
    "plt.show()"
   ]
  },
  {
   "attachments": {},
   "cell_type": "markdown",
   "id": "60182d75",
   "metadata": {},
   "source": [
    "## Problem 3\n",
    "Write a function that finds the least squares estimator for rank-deficient models using the SVD. \n",
    "The function should still take $X$ and **y** as inputs. Call the function **svd_ols** and return the least squares estimator for $\\beta$ as a numpy array."
   ]
  },
  {
   "cell_type": "code",
   "execution_count": null,
   "id": "521a5178",
   "metadata": {},
   "outputs": [],
   "source": [
    "def svd_ols(X, y):\n",
    "    \"\"\"\n",
    "    Solves for the least squares estimator using the SVD.\n",
    "    Add a column of 1s to X.\n",
    "    Parameters:\n",
    "        X: n x d numpyarray\n",
    "        y: n x 1 numpyarray\n",
    "    Returns:\n",
    "        beta: d x 1 numpy array\n",
    "    \"\"\"\n",
    "    raise Exception(\"Problem 3 Incomplete\")"
   ]
  },
  {
   "attachments": {},
   "cell_type": "markdown",
   "id": "1ed14166",
   "metadata": {},
   "source": [
    "## Problem 4\n",
    "Use your function **svd_ols** to find the least squares estimator for a cubic polynomial. \n",
    "Create a plot that shows a scatter plot of the data and a curve using the least squares estimator. \n",
    "Your plot should include a title, axis labels, and a legend."
   ]
  },
  {
   "cell_type": "code",
   "execution_count": null,
   "id": "64506569",
   "metadata": {},
   "outputs": [],
   "source": []
  },
  {
   "attachments": {},
   "cell_type": "markdown",
   "id": "c863089a",
   "metadata": {},
   "source": [
    "## Problem 5\n",
    "The file **realestate.csv** contains transaction data from 2012-2013. \n",
    "It has columns for transaction data, house age, distance to nearest MRT station, number of convenience stores, latitude, longitude, and house price of unit area.\n",
    "Each row in the array is a separate measurement.\n",
    "\n",
    "Find the combination of variables that builds the model with the best $R^2$ value when predicting **house price of unit area**. Use statsmodels to build each model and calculate $R^2$. Use **statsmodels** to build each model and calculate $R^2$. Using the same combination of variables, time the methods **ols**, **svd_ols**, and **statsmodels** . Return a list with the first element being a tuple of times for each method and the second element being the best $R^2$ value from the first part of the problem."
   ]
  },
  {
   "cell_type": "code",
   "execution_count": null,
   "id": "e6214ba3",
   "metadata": {},
   "outputs": [],
   "source": [
    "def problem5():\n",
    "    \"\"\"\n",
    "    Find the best R2 value using statsmodels.\n",
    "    Then time ols, svd_ols, and statsmodlels.\n",
    "    Returns:\n",
    "        list(): a tuple of times and the best R2 value\n",
    "    \"\"\"\n",
    "    raise Exception(\"Problem 5 Incomplete\")"
   ]
  },
  {
   "attachments": {},
   "cell_type": "markdown",
   "id": "d3ff1a9b",
   "metadata": {},
   "source": [
    "## Problem 6\n",
    "Use the file **realestate.csv** and the Python Example on page 4 as a template for constructing **y** and $X$ and calculating model AIC and BIC. \n",
    "For the dependent variable, use **house price of unit area**. \n",
    "For the independent variables, use **house age**, use **distance to the nearest MRT station**, **number of convenience stores**, **latitude**, and **longitude**.\n",
    "\n",
    "Find the model that has the lowest AIC and the model that has the lowest BIC. Print the features of the model with the lowest AIC and then the features of the model with the lowest BIC as separate lists."
   ]
  },
  {
   "cell_type": "code",
   "execution_count": null,
   "id": "00fd80df",
   "metadata": {},
   "outputs": [],
   "source": []
  },
  {
   "attachments": {},
   "cell_type": "markdown",
   "id": "fa519708",
   "metadata": {},
   "source": [
    "## Problem 7\n",
    "Use Ridge and Lasso Regression to model **house price of unit area** from the file **realestate.csv**.\n",
    "Before fitting each model, run a GridSearch on $\\alpha$ to find the optimal value.\n",
    "Then use the optimal $\\alpha$ to fit the model.\n",
    "Once you have fit the model, you can use the **score** method to get $R^2$. \n",
    "Print $R^2$ for each model as a tuple. "
   ]
  },
  {
   "cell_type": "code",
   "execution_count": null,
   "id": "41fb5f95",
   "metadata": {},
   "outputs": [],
   "source": []
  }
 ],
 "metadata": {
  "kernelspec": {
   "display_name": ".acme-venv",
   "language": "python",
   "name": "python3"
  },
  "language_info": {
   "codemirror_mode": {
    "name": "ipython",
    "version": 3
   },
   "file_extension": ".py",
   "mimetype": "text/x-python",
   "name": "python",
   "nbconvert_exporter": "python",
   "pygments_lexer": "ipython3",
   "version": "3.10.15"
  }
 },
 "nbformat": 4,
 "nbformat_minor": 5
}
