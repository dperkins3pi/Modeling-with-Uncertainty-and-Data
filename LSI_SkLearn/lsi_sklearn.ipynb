{
 "cells": [
  {
   "cell_type": "markdown",
   "metadata": {},
   "source": [
    "# LSI and Scikit-Learn\n",
    "    Daniel Perkins\n",
    "    MATH 403\n",
    "    9/26/24"
   ]
  },
  {
   "cell_type": "code",
   "execution_count": 3,
   "metadata": {},
   "outputs": [],
   "source": [
    "import os\n",
    "import string\n",
    "import numpy as np\n",
    "from scipy import sparse\n",
    "from sklearn import datasets\n",
    "from scipy import linalg as la\n",
    "from collections import Counter\n",
    "from matplotlib import pyplot as plt\n",
    "from scipy.sparse import linalg as spla\n",
    "from sklearn.pipeline import Pipeline\n",
    "from sklearn.decomposition import TruncatedSVD, PCA\n",
    "from sklearn.model_selection import GridSearchCV\n",
    "from sklearn.ensemble import RandomForestClassifier\n",
    "from sklearn.neighbors import KNeighborsClassifier\n",
    "from sklearn.preprocessing import StandardScaler\n",
    "\n",
    "from sklearn.model_selection import train_test_split\n",
    "from sklearn.metrics import classification_report\n",
    "from sklearn.metrics import confusion_matrix"
   ]
  },
  {
   "cell_type": "markdown",
   "metadata": {},
   "source": [
    "## Problem 1\n",
    "- Perform PCA on the breast cancer dataset\n",
    "- Graph the first two principal components\n",
    "- Calculate the variance captured by the first two principal components"
   ]
  },
  {
   "cell_type": "code",
   "execution_count": 58,
   "metadata": {},
   "outputs": [],
   "source": [
    "def prob1():\n",
    "    \"\"\"Recreate the plot in Figure 1 by performing PCA on the breast \n",
    "    cancer dataset. Translate the columns of X to have mean 0.\n",
    "    Include the amount of variance captured by the first two principal \n",
    "    components in the graph title.\"\"\"\n",
    "    \n",
    "    # Load in data\n",
    "    cancer = datasets.load_breast_cancer()\n",
    "    X = cancer.data\n",
    "    y = cancer.target # Class labels (0 or 1)\n",
    "    \n",
    "    # print(X)\n",
    "    Y = X - np.mean(X, axis=0)  # Center columns on mean\n",
    "    U, S, Vh = la.svd(Y)  # Compute the SVD (S is vector of singular values)\n",
    "    Y_hat = U[:,:2] * S[:2]  # Project samples ontu 2D space\n",
    "    \n",
    "    # Extract meaningful data\n",
    "    pca1, pca2 = Y_hat[:,0], Y_hat[:,1] # 2-D PCA\n",
    "    proportion = (S[0]**2 + S[1]**2) / np.sum(S**2)  # Equation (7.1)\n",
    "    \n",
    "    # Masks\n",
    "    ben_mask = np.where(y == 1)[0]\n",
    "    mal_mask = np.where(y == 0)[0]\n",
    "    \n",
    "    # Plot it\n",
    "    plt.title(f\"Breast Cancer PCA with {100*round(proportion, 4)}% of the variance\")\n",
    "    plt.ylabel(\"Second Principal Component\")\n",
    "    plt.xlabel(\"First Principal Component\")\n",
    "    plt.scatter(pca1[mal_mask], pca2[mal_mask], marker=\".\", linewidths=.3, alpha=.4, label=\"Malignant\", color=\"red\")\n",
    "    plt.scatter(pca1[ben_mask], pca2[ben_mask], marker=\".\", linewidths=.3, alpha=.4, label=\"Benign\", color=\"green\")\n",
    "    plt.legend()\n",
    "    plt.show()\n",
    "    print(f\"{100*proportion}% of the variance was captured.\")"
   ]
  },
  {
   "cell_type": "code",
   "execution_count": 59,
   "metadata": {},
   "outputs": [
    {
     "data": {
      "image/png": "[encoded data removed]",
      "text/plain": [
       "<Figure size 432x288 with 1 Axes>"
      ]
     },
     "metadata": {
      "needs_background": "light"
     },
     "output_type": "display_data"
    },
    {
     "name": "stdout",
     "output_type": "stream",
     "text": [
      "99.82211613741725% of the variance was captured.\n"
     ]
    }
   ],
   "source": [
    "prob1()"
   ]
  },
  {
   "cell_type": "markdown",
   "metadata": {},
   "source": [
    "## Problem 2\n",
    "Implement the function similar()"
   ]
  },
  {
   "cell_type": "code",
   "execution_count": 86,
   "metadata": {},
   "outputs": [],
   "source": [
    "def similar(i, Xhat):\n",
    "    \"\"\"\n",
    "    Takes an index and matrix representing the principal components \n",
    "    of a document and returns two indices: the index of the document \n",
    "    that is least similar and the index of the document that is most \n",
    "    similar to i.\n",
    "    \n",
    "    Parameters:\n",
    "        i: index of a document\n",
    "        Xhat: decomposed data\n",
    "    \n",
    "    Returns:\n",
    "        index_max: index of the document most similar to document i\n",
    "        index_min: index of the document least similar to document i\n",
    "    \"\"\"\n",
    "    similarities = []\n",
    "    for j in range(len(Xhat)):\n",
    "        if j == i:  # Don't want it to match itself\n",
    "            similarities.append(-np.inf)  \n",
    "            continue\n",
    "        # Calculate cosine similarity\n",
    "        num = np.sum(Xhat[i]*Xhat[j])\n",
    "        den = np.linalg.norm(Xhat[i]) * np.linalg.norm(Xhat[j])\n",
    "        similarities.append(num / den)\n",
    "    # Sort by index to find max and min\n",
    "    sorted_similarities = np.argsort(similarities)\n",
    "    index_min = sorted_similarities[1]  # Second to last (to ignore repeated document)\n",
    "    index_max = sorted_similarities[-1]  \n",
    "    return index_max, index_min\n",
    "        "
   ]
  },
  {
   "cell_type": "code",
   "execution_count": 87,
   "metadata": {},
   "outputs": [
    {
     "name": "stdout",
     "output_type": "stream",
     "text": [
      "(3, 7)\n"
     ]
    }
   ],
   "source": [
    "# Test case\n",
    "X = np.array([\n",
    "    [0.78, 0.14, 0.12, 0.],\n",
    "    [0.64, 0.97, 0., 0.],\n",
    "    [0., 0., 0.63, 0.46],\n",
    "    [0., 0.84, 0.6, 0.],\n",
    "    [0.29, 0.89, 0.51, 0.],\n",
    "    [0.77, 0., 0.27, 0.2],\n",
    "    [0.86, 0.47, 0., 0.06],\n",
    "    [0.89, 0., 0., 0.]\n",
    "]) \n",
    "print(similar(4, X))"
   ]
  },
  {
   "cell_type": "markdown",
   "metadata": {},
   "source": [
    "### Function for Problem 3"
   ]
  },
  {
   "cell_type": "code",
   "execution_count": null,
   "metadata": {},
   "outputs": [],
   "source": [
    "def document_converter():\n",
    "    \"\"\"\n",
    "    Converts speech documents into an m by n array where n is the number \n",
    "    of vocabulary words and m is the number of documents.\n",
    "    \n",
    "    Returns:\n",
    "        X ((m x n) sparse matrix): Each row represents a document\n",
    "        paths (list): list where each element is a speech path \n",
    "            eg: path[0] is './Addresses/1990-Bush.txt'\n",
    "    \"\"\"\n",
    "    # Get list of filepaths to each text file in the folder.\n",
    "    folder = \"./Addresses/\"\n",
    "    paths = sorted([folder+p for p in os.listdir(folder) if p.endswith(\".txt\")])\n",
    "\n",
    "    # Helper function to get list of words in a string.\n",
    "    def extractWords(text):\n",
    "        ignore = string.punctuation + string.digits\n",
    "        cleaned = \"\".join([t for t in text.strip() if t not in ignore])\n",
    "        return cleaned.lower().split()\n",
    "\n",
    "    # Initialize vocab set, then read each file and add to the vocab set.\n",
    "    vocab = set()\n",
    "    for p in paths:\n",
    "        with open(p, 'r', encoding=\"utf8\") as infile:\n",
    "            for line in infile:\n",
    "                vocab.update(extractWords(line)) # Union sets together\n",
    "\n",
    "    # Load stopwords\n",
    "    with open(\"stopwords.txt\", 'r',  encoding=\"utf8\") as f:\n",
    "        stops = set([w.strip().lower() for w in f.readlines()])\n",
    "\n",
    "    # Remove stopwords from vocabulary, create ordering\n",
    "    vocab = {w: i for i, w in enumerate(vocab.difference(stops))}\n",
    "\n",
    "    counts = []      # holds the entries of X\n",
    "    doc_index = []   # holds the row index of X\n",
    "    word_index = []  # holds the column index of X\n",
    "\n",
    "    # Iterate through the documents\n",
    "    for doc, p in enumerate(paths):\n",
    "        with open(p, 'r', encoding=\"utf8\") as f:\n",
    "            # Create the word counter.\n",
    "            ctr = Counter()\n",
    "            for line in f:\n",
    "                ctr.update(extractWords(line))\n",
    "            # Iterate through the word counter, storing counts.\n",
    "            for word, count in ctr.items():\n",
    "                if word in vocab:\n",
    "                    word_index.append(vocab[word])\n",
    "                    counts.append(count)\n",
    "                    doc_index.append(doc)\n",
    "              \n",
    "    # Create sparse matrix holding these word counts.\n",
    "    X = sparse.csr_array((counts, [doc_index, word_index]),\n",
    "                           shape=(len(paths), len(vocab)), dtype=float)\n",
    "    return X, paths"
   ]
  },
  {
   "cell_type": "markdown",
   "metadata": {},
   "source": [
    "## Problem 3\n",
    "Use the function above and PCA to find speeches most and least similar to a given speech."
   ]
  },
  {
   "cell_type": "code",
   "execution_count": null,
   "metadata": {},
   "outputs": [],
   "source": [
    "def prob3(speech, l=7):\n",
    "    \"\"\"\n",
    "    Uses LSI, applied to the word count matrix X, with the first 7 \n",
    "    principal components to find the most similar and least similar \n",
    "    speeches.\n",
    "\n",
    "    Parameters:\n",
    "        speech (str): Path to speech eg: \"./Addresses/1984-Reagan.txt\"\n",
    "        l (int): Number of principal components\n",
    "\n",
    "    Returns:\n",
    "        tuple of str: (Most similar speech, least similar speech)\n",
    "    \"\"\"    \n",
    "    raise NotImplementedError(\"Problem 3 incomplete\")"
   ]
  },
  {
   "cell_type": "code",
   "execution_count": null,
   "metadata": {},
   "outputs": [],
   "source": [
    "# Run this box once you have written prob3()\n",
    "speech = './Addresses/1984-Reagan.txt'\n",
    "print(prob3(speech))\n",
    "\n",
    "speech = \"./Addresses/1993-Clinton.txt\"\n",
    "print(prob3(speech))"
   ]
  },
  {
   "cell_type": "markdown",
   "metadata": {},
   "source": [
    "## Problem 4\n",
    "Edit the end of the following function to return a weighted sparse matrix A."
   ]
  },
  {
   "cell_type": "code",
   "execution_count": null,
   "metadata": {},
   "outputs": [],
   "source": [
    "def weighted_document_converter():\n",
    "    \"\"\"\n",
    "    Converts speech documents into an m by n array where n is the number \n",
    "    of vocabulary words and m is the number of documents. It gives weights\n",
    "    to the most important words in the vocabulary.\n",
    "    \n",
    "    Returns:\n",
    "        A ((m x n) sparse matrix): Each row represents a document\n",
    "        paths (list): list where each element is a speech path \n",
    "            eg: path[0] is './Addresses/1990-Bush.txt'\n",
    "    \"\"\"\n",
    "    X, paths = document_converter()\n",
    "    \n",
    "    # Problem 4\n",
    "    # Calculate global weights\n",
    "    raise NotImplementedError(\"Problem 4 incomplete\")"
   ]
  },
  {
   "cell_type": "markdown",
   "metadata": {},
   "source": [
    "## Problem 5\n",
    "Use the weighted_document_converter() function above and scikit-learn's PCA to find speeches most and least similar to a given speech."
   ]
  },
  {
   "cell_type": "code",
   "execution_count": null,
   "metadata": {},
   "outputs": [],
   "source": [
    "def prob5(speech, l=7):\n",
    "    \"\"\"\n",
    "    Uses LSI, applied to the globally weighted word count matrix A, with \n",
    "    the first 7 principal components to find the most similar and least \n",
    "    similar speeches.\n",
    "\n",
    "    Parameters:\n",
    "        speech (str): Path to speech eg: \"./Addresses/1984-Reagan.txt\"\n",
    "        l (int): Number of principal components\n",
    "\n",
    "    Returns:\n",
    "        tuple of str: (Most similar speech, least similar speech)\n",
    "    \"\"\"\n",
    "    raise NotImplementedError(\"Problem 5 incomplete\")"
   ]
  },
  {
   "cell_type": "code",
   "execution_count": null,
   "metadata": {},
   "outputs": [],
   "source": [
    "# Run this box after you have completed prob5()\n",
    "speech = \"./Addresses/1993-Clinton.txt\"\n",
    "print(prob5(speech))\n",
    "\n",
    "speech = './Addresses/1984-Reagan.txt'\n",
    "print(prob5(speech))"
   ]
  },
  {
   "cell_type": "markdown",
   "metadata": {},
   "source": [
    "## Problem 6\n",
    "- Split the breast cancer dataset into training and testing sets using random_state=2\n",
    "- Fit KNeighborsClassifier and RandomForestClassifier to the training data\n",
    "- Predict labels for the testing set\n",
    "- Print a classification_report for each classifier\n",
    "- Write a few sentences explaining which classifier would be better to use in this situation and why"
   ]
  },
  {
   "cell_type": "code",
   "execution_count": null,
   "metadata": {},
   "outputs": [],
   "source": []
  },
  {
   "cell_type": "markdown",
   "metadata": {},
   "source": [
    "*Write your explanation in the markdown cell here.*"
   ]
  },
  {
   "cell_type": "markdown",
   "metadata": {},
   "source": [
    "## Problem 7\n",
    "- Use the breast cancer dataset split from Problem 6\n",
    "- Run a GridSearch with a RandomForestClassifier, modifying at least three parameters.\n",
    "- Use scoring=\"f1\"\n",
    "- Print out best_params_ and best_score_\n",
    "- Print a confusion matrix for the test data"
   ]
  },
  {
   "cell_type": "code",
   "execution_count": null,
   "metadata": {},
   "outputs": [],
   "source": []
  },
  {
   "cell_type": "markdown",
   "metadata": {},
   "source": [
    "## Problem 8\n",
    "- Create a pipeline with a StandardScaler, PCA, and a KNeighborsClassifier\n",
    "- Do a grid search, modifying at least 6 parameters\n",
    "- Print your best parameters and best score (f1)\n",
    "- Get a score of at least 0.96"
   ]
  },
  {
   "cell_type": "code",
   "execution_count": null,
   "metadata": {},
   "outputs": [],
   "source": []
  }
 ],
 "metadata": {
  "kernelspec": {
   "display_name": "Python 3 (ipykernel)",
   "language": "python",
   "name": "python3"
  },
  "language_info": {
   "codemirror_mode": {
    "name": "ipython",
    "version": 3
   },
   "file_extension": ".py",
   "mimetype": "text/x-python",
   "name": "python",
   "nbconvert_exporter": "python",
   "pygments_lexer": "ipython3",
   "version": "3.10.12"
  }
 },
 "nbformat": 4,
 "nbformat_minor": 4
}
