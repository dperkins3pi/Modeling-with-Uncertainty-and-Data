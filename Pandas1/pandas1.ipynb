{
 "cells": [
  {
   "cell_type": "markdown",
   "metadata": {
    "colab_type": "text",
    "id": "hr6QvWC1sVno"
   },
   "source": [
    "# Pandas 1\n",
    "\n",
    "## Name: Daniel Perkins\n",
    "\n",
    "## Class: MATH 403\n",
    "\n",
    "## Date: 7/28/24"
   ]
  },
  {
   "cell_type": "code",
   "execution_count": 3,
   "metadata": {
    "colab": {},
    "colab_type": "code",
    "id": "D1pxi6sWEcmJ"
   },
   "outputs": [],
   "source": [
    "import numpy as np\n",
    "import pandas as pd"
   ]
  },
  {
   "cell_type": "markdown",
   "metadata": {
    "colab_type": "text",
    "id": "Y8nzrZCaE4bn"
   },
   "source": [
    "# Problem 1"
   ]
  },
  {
   "cell_type": "code",
   "execution_count": 4,
   "metadata": {},
   "outputs": [],
   "source": [
    "# Prob 1\n",
    "def prob1(file='budget.csv'):\n",
    "    \"\"\"\"\n",
    "    Read in budget.csv as a DataFrame with the index as column 0 and perform each of these operations on the DataFrame in order. \n",
    "    \n",
    "    1) Reindex the columns such that amount spent on groceries is the first column and all other columns maintain the same ordering.\n",
    "    2) Sort the DataFrame in descending order based on how much money was spent on Groceries.\n",
    "    3) Reset all values in the 'Rent' column to 800.0.\n",
    "    4) Reset all values in the first 5 data points to 0.0\n",
    "    \n",
    "    Return the values of the updated DataFrame as a NumPy array.\n",
    "    \n",
    "    Parameters:\n",
    "        file (str): name of datafile\n",
    "        \n",
    "    Return:\n",
    "        values (ndarray): values of DataFrame\n",
    "    \"\"\"\n",
    "    data = pd.read_csv(file, index_col=0)  # Load in data\n",
    "    data = data.reindex(columns=['Groceries', 'Rent', 'Utilities', 'Dining Out', 'Gas', 'Out With Friends', 'Netflix'])  # Move grocies to front\n",
    "    data = data.sort_values('Groceries', ascending=False)  # Sort by money spent on groceries\n",
    "    data[\"Rent\"] = 800   # Set all rent values to 800\n",
    "    data.iloc[[0, 1, 2, 3, 4], :] = 0  # Rest all values in first 5 entries to 0\n",
    "    return data.values"
   ]
  },
  {
   "cell_type": "code",
   "execution_count": 5,
   "metadata": {},
   "outputs": [
    {
     "name": "stdout",
     "output_type": "stream",
     "text": [
      "[[  0.   0.   0.   0.   0.   0.   0.]\n",
      " [  0.   0.   0.   0.   0.   0.   0.]\n",
      " [  0.   0.   0.   0.   0.   0.   0.]\n",
      " [  0.   0.   0.   0.   0.   0.   0.]\n",
      " [  0.   0.   0.   0.   0.   0.   0.]\n",
      " [174. 800.  90.  37.  30.  23.   8.]\n",
      " [174. 800.  82.  35.  nan  26.  nan]\n",
      " [172. 800.  82.  31.  30.  26.   8.]\n",
      " [171. 800.  82.  40.  nan  23.  nan]\n",
      " [171. 800.  82.  35.  nan  27.  nan]\n",
      " [171. 800.  80.  30.  31.  22.  nan]\n",
      " [170. 800.  90.  34.  33.  nan   8.]\n",
      " [170. 800.  85.  34.  nan  25.  nan]\n",
      " [167. 800.  92.  30.  nan  29.  nan]\n",
      " [163. 800.  85.  30.  nan  nan  nan]\n",
      " [163. 800.  90.  31.  nan  25.  nan]\n",
      " [161. 800.  85.  30.  nan  24.  nan]\n",
      " [160. 800.  91.  32.  28.  23.  nan]\n",
      " [158. 800.  92.  nan  nan  22.  nan]\n",
      " [157. 800.  82.  nan  32.  21.   8.]\n",
      " [155. 800.  80.  nan  33.  26.   8.]\n",
      " [155. 800.  92.  33.  nan  nan  nan]\n",
      " [153. 800.  80.  31.  30.  27.   8.]\n",
      " [152. 800.  95.  30.  46.  nan   8.]\n",
      " [152. 800.  85.  39.  nan  29.  nan]\n",
      " [152. 800.  95.  32.  34.  22.   8.]\n",
      " [150. 800.  90.  34.  nan  25.  nan]\n",
      " [148. 800.  91.  40.  31.  nan  nan]\n",
      " [148. 800.  91.  34.  28.  27.  nan]\n",
      " [146. 800.  95.  31.  32.  23.   8.]\n",
      " [145. 800.  91.  30.  29.  28.  nan]\n",
      " [145. 800.  82.  40.  nan  27.  nan]\n",
      " [145. 800.  90.  32.  nan  29.  nan]\n",
      " [143. 800.  95.  38.  34.  21.   8.]\n",
      " [141. 800.  82.  37.  nan  27.  nan]\n",
      " [140. 800.  82.  31.  30.  24.   8.]\n",
      " [140. 800.  92.  34.  nan  24.  nan]\n",
      " [137. 800.  82.  nan  31.  28.   8.]\n",
      " [137. 800.  82.  36.  nan  20.  nan]\n",
      " [137. 800.  95.  36.  34.  23.   8.]\n",
      " [136. 800.  92.  36.  nan  22.  nan]\n",
      " [135. 800.  90.  34.  32.  22.   8.]\n",
      " [134. 800.  82.  39.  35.  24.   8.]\n",
      " [133. 800.  91.  36.  nan  23.  nan]\n",
      " [131. 800.  85.  38.  nan  23.  nan]\n",
      " [131. 800.  80.  31.  29.  nan  nan]\n",
      " [130. 800.  85.  31.  nan  22.  nan]\n",
      " [130. 800.  91.  34.  nan  21.  nan]]\n"
     ]
    }
   ],
   "source": [
    "print(prob1())"
   ]
  },
  {
   "cell_type": "markdown",
   "metadata": {
    "colab_type": "text",
    "id": "FcGE9Qq5scpv"
   },
   "source": [
    "# Problem 2"
   ]
  },
  {
   "cell_type": "code",
   "execution_count": 6,
   "metadata": {
    "colab": {},
    "colab_type": "code",
    "id": "bZIdjL74RuuO"
   },
   "outputs": [],
   "source": [
    "# Prob 2\n",
    "def prob2(file='budget.csv'):\n",
    "    \"\"\"\n",
    "    Read in file as DataFrame.\n",
    "    Fill all NaN values with 0.0.\n",
    "    Create two new columns, 'Living Expenses' and 'Other'. \n",
    "    Sum the columns 'Rent', 'Groceries', 'Gas' and 'Utilities' and set it as the value of 'Living Expenses'.\n",
    "    Sum the columns 'Dining Out', 'Out With Friends' and 'Netflix' and set as the value of 'Other'.\n",
    "    Identify which column, other than 'Living Expenses' correlates most with 'Living Expenses'\n",
    "    and which column other than 'Other' correlates most with 'Other'.\n",
    "\n",
    "    Return the names of each of those columns as a tuple.\n",
    "    The first should be of the column corresponding to \\li{'Living Expenses'} and the second to \\li{'Other'}.\n",
    "    \n",
    "    Parameters:\n",
    "        file (str): name of datafile\n",
    "        \n",
    "    Return:\n",
    "        values (tuple): (name of column that most relates to Living Expenses, name of column that most relates to Other)\n",
    "    \"\"\"\n",
    "    data = pd.read_csv(file, index_col=0)  # Load in data\n",
    "    data = data.fillna(0.0)  # Fill NaN values\n",
    "    data[\"Living Expenses\"] = data[\"Rent\"] + data[\"Groceries\"] + data[\"Gas\"] + data[\"Utilities\"] # Create and set values for the new column\n",
    "    data[\"Other\"] = data[\"Dining Out\"] + data[\"Out With Friends\"] + data[\"Netflix\"] # Create and set values for the new column\n",
    "    corr_matrx = data.corr()  # Get correlation matrix\n",
    "    largest_living_expense = corr_matrx[\"Living Expenses\"].sort_values().index[-2]  # Take second largest value of Living Expenses correlation\n",
    "    largest_other_expense = corr_matrx[\"Other\"].sort_values().index[-2]  # Take second largest value of Other correlation\n",
    "    return largest_living_expense, largest_other_expense"
   ]
  },
  {
   "cell_type": "code",
   "execution_count": 7,
   "metadata": {},
   "outputs": [
    {
     "name": "stdout",
     "output_type": "stream",
     "text": [
      "('Rent', 'Dining Out')\n"
     ]
    }
   ],
   "source": [
    "print(prob2())"
   ]
  },
  {
   "cell_type": "markdown",
   "metadata": {
    "colab_type": "text",
    "id": "qVHAwFRRseXh"
   },
   "source": [
    "# Problem 3"
   ]
  },
  {
   "cell_type": "code",
   "execution_count": 8,
   "metadata": {
    "colab": {},
    "colab_type": "code",
    "id": "35VAshdqZhVD"
   },
   "outputs": [],
   "source": [
    "def prob3(file='crime_data.csv'):\n",
    "    \"\"\"\n",
    "    Read in crime data and use pandas to answer the following questions.\n",
    "    \n",
    "    Set the index as the column 'Year', and return the answers to each question as a tuple.\n",
    "    \n",
    "    1) Identify the three crimes that have a mean over 1,500,000. \n",
    "    Of these three crimes, which two are very correlated? \n",
    "    Which of these two crimes has a greater maximum value?\n",
    "    Save the title of this column as a variable to return as the answer.\n",
    "    \n",
    "    2) Examine the data since 2000.\n",
    "    Sort this data (in ascending order) according to number of murders.\n",
    "    Find the years where Aggravated Assault is greater than 850,000.\n",
    "    Save the indices (the years) of the masked and reordered DataFrame as a NumPy array to return as the answer.\n",
    "    \n",
    "    3) What year had the highest crime rate? \n",
    "    In this year, which crime was committed the most? \n",
    "    What percentage of the total crime that year was it? \n",
    "    Save this value as a float.\n",
    "    \n",
    "    \n",
    "    Parameters:\n",
    "        file (str): data\n",
    "    \n",
    "    Return:\n",
    "        ans_1 (string): answer to Question 1\n",
    "        ans_2 (ndarray): answer to Question 2\n",
    "        ans_3 (float): answer to Question 3\n",
    "    \"\"\"\n",
    "    data = pd.read_csv(file, index_col='Year')  # Load in data\n",
    "\n",
    "    # Find the most common crimes\n",
    "    mean_crimes = data.mean().sort_values()  # Get mean numbers for each crime\n",
    "    most_common_crimes = [data.mean().sort_values().index[i] for i in range(-5, -2)]  # Find three largest primes\n",
    "    # Find correlaation between these crimes\n",
    "    correlation = data[most_common_crimes].corr()\n",
    "    values = correlation.values   # Convert to numpy array\n",
    "    ignore_useless_correlations = values >= 1  # Ignore correlation between the same elements\n",
    "    values[ignore_useless_correlations] = 0\n",
    "    # Find which two of these crimes correlate the most\n",
    "    largest_index = np.argmax(values) # Find index for values of largest correlation\n",
    "    largest_index = (largest_index // 3, largest_index % 3)\n",
    "    correlated_common_crimes = [most_common_crimes[i] for i in largest_index]\n",
    "    # Get the maximum number of each of these crimes and output the crime that is the largest\n",
    "    max_crimes = [max(data[crime]) for crime in correlated_common_crimes]\n",
    "    ans_1 = correlated_common_crimes[np.argmax(max_crimes)]\n",
    "    # print(ans_1)\n",
    "    \n",
    "    # Examine data since the 2000s\n",
    "    mask = data.index >= 2000\n",
    "    data2000s = data[mask]\n",
    "    data2000s = data2000s.sort_values(\"Murder\")  # Sort by number of murders\n",
    "    mask = data[\"Aggravated Assault\"] > 850000  # Used to filter out years with smaller numbers\n",
    "    data2000s = data2000s[mask]\n",
    "    ans_2 = data2000s.index.to_numpy()  # Find the years that satisfy the above\n",
    "    # print(ans_2)\n",
    "    \n",
    "    # Add crime_rate as a column\n",
    "    data[\"Crime Rate\"] = data[\"Total\"] / data[\"Population\"]    \n",
    "    max_crime_rate_row = data[data['Crime Rate'] == data['Crime Rate'].max()]  # Find row with the max crime rate\n",
    "    max_crime_rate_row = max_crime_rate_row.squeeze()   # Convert to a series\n",
    "    most_common_crime = max_crime_rate_row.sort_values().index[-3]  # Find the most common crime\n",
    "    ans_3 = max_crime_rate_row[most_common_crime] / max_crime_rate_row[\"Total\"]  # Find this crime was of all crimes\n",
    "    # print(ans_3)\n",
    "    \n",
    "    return ans_1, ans_2, ans_3"
   ]
  },
  {
   "cell_type": "code",
   "execution_count": 9,
   "metadata": {},
   "outputs": [
    {
     "name": "stdout",
     "output_type": "stream",
     "text": [
      "('Property', array([2000, 2001, 2002, 2003, 2005, 2007, 2006]), 0.8997188308734142)\n"
     ]
    },
    {
     "name": "stderr",
     "output_type": "stream",
     "text": [
      "/tmp/ipykernel_260692/2761361216.py:55: UserWarning: Boolean Series key will be reindexed to match DataFrame index.\n",
      "  data2000s = data2000s[mask]\n"
     ]
    }
   ],
   "source": [
    "print(prob3())"
   ]
  },
  {
   "cell_type": "markdown",
   "metadata": {
    "colab_type": "text",
    "id": "4pfN6PbxsgC3"
   },
   "source": [
    "# Problem 4"
   ]
  },
  {
   "cell_type": "code",
   "execution_count": 17,
   "metadata": {
    "colab": {},
    "colab_type": "code",
    "id": "TAavKLA17LsN"
   },
   "outputs": [],
   "source": [
    "def prob4(file='DJIA.csv'):\n",
    "    \"\"\"\n",
    "\n",
    "    Read the data with a DatetimeIndex as the index.\n",
    "    Drop rows any rows without numerical values, cast the \"VALUE\" column to floats, then return the updated DataFrame.\n",
    "\n",
    "    Parameters:\n",
    "        file (str): data file\n",
    "    Returns:\n",
    "        df (DataFrame): updated DataFrame of stock market data\n",
    "    \"\"\"\n",
    "    data = pd.read_csv(file, index_col=0)  # Load in data\n",
    "    data.index = pd.to_datetime(data.index)  # Convert to datetime\n",
    "    data = pd.to_numeric(data['VALUE'], errors='coerce') # Backup to remove non-numeric values\n",
    "    data.dropna(inplace=True)\n",
    "    return data"
   ]
  },
  {
   "cell_type": "code",
   "execution_count": 18,
   "metadata": {},
   "outputs": [
    {
     "name": "stdout",
     "output_type": "stream",
     "text": [
      "DATE\n",
      "2006-09-27    11689.24\n",
      "2006-09-28    11718.45\n",
      "2006-09-29    11679.07\n",
      "2006-10-02    11670.35\n",
      "2006-10-03    11727.34\n",
      "                ...   \n",
      "2016-09-20    18129.96\n",
      "2016-09-21    18293.70\n",
      "2016-09-22    18392.46\n",
      "2016-09-23    18261.45\n",
      "2016-09-26    18094.83\n",
      "Name: VALUE, Length: 2517, dtype: float64\n"
     ]
    }
   ],
   "source": [
    "print(prob4())"
   ]
  },
  {
   "cell_type": "markdown",
   "metadata": {
    "colab_type": "text",
    "id": "I663KesNsjMK"
   },
   "source": [
    "# Problem 5"
   ]
  },
  {
   "cell_type": "code",
   "execution_count": 12,
   "metadata": {},
   "outputs": [],
   "source": [
    "def prob5(file='paychecks.csv'):\n",
    "    \"\"\"\n",
    "\n",
    "    Create data_range for index of paycheck data.\n",
    "\n",
    "    Parameters:\n",
    "        file (str): data file\n",
    "    Returns:\n",
    "        df (DataFrame): DataFrame of paycheck data\n",
    "    \"\"\" \n",
    "    data = pd.read_csv(file, header=None, names=[\"paycheck\"])  # Load in data\n",
    "    dates = pd.date_range(start='3/13/2008', periods=93, freq=\"2W-FRI\") # Date range for every other Friday\n",
    "    data.index = dates\n",
    "    return data"
   ]
  },
  {
   "cell_type": "code",
   "execution_count": 13,
   "metadata": {},
   "outputs": [
    {
     "name": "stdout",
     "output_type": "stream",
     "text": [
      "            paycheck\n",
      "2008-03-14   1122.26\n",
      "2008-03-28    921.03\n",
      "2008-04-11    962.46\n",
      "2008-04-25   1035.97\n",
      "2008-05-09   1078.59\n",
      "...              ...\n",
      "2011-07-29   1095.53\n",
      "2011-08-12   1018.39\n",
      "2011-08-26   1027.08\n",
      "2011-09-09   1005.90\n",
      "2011-09-23    963.29\n",
      "\n",
      "[93 rows x 1 columns]\n"
     ]
    }
   ],
   "source": [
    "print(prob5())"
   ]
  },
  {
   "cell_type": "markdown",
   "metadata": {
    "colab_type": "text",
    "id": "I663KesNsjMK"
   },
   "source": [
    "# Problem 6"
   ]
  },
  {
   "cell_type": "code",
   "execution_count": 24,
   "metadata": {
    "colab": {},
    "colab_type": "code",
    "id": "KGxh0mpSDLDD"
   },
   "outputs": [],
   "source": [
    "def prob6(file='DJIA.csv'):\n",
    "    \"\"\"\n",
    "    Compute the following information about the DJIA dataset\n",
    "    1. The single day with the largest gain\n",
    "    2. The single day with the largest loss\n",
    "\n",
    "    Parameters:\n",
    "        file (str): data file\n",
    "    Returns:\n",
    "        max_day (<M8[ns]): DateTimeIndex of maximum change\n",
    "        min_day (<M8[ns]): DateTimeIndex of minimum change\n",
    "    \"\"\"\n",
    "    data = prob4(file)\n",
    "    gains = data - data.shift(1) # Shift to find gains\n",
    "    max_day = gains.idxmax()\n",
    "    min_day = gains.idxmin()\n",
    "    # max_day = data.index[np.argmax(gains[1:])]  # Find date of largest gain\n",
    "    # min_day = data.index[np.argmin(gains[1:])]  # Find date of largest gain\n",
    "    return max_day, min_day"
   ]
  },
  {
   "cell_type": "code",
   "execution_count": 25,
   "metadata": {},
   "outputs": [
    {
     "name": "stdout",
     "output_type": "stream",
     "text": [
      "(Timestamp('2008-10-13 00:00:00'), Timestamp('2008-09-29 00:00:00'))\n"
     ]
    }
   ],
   "source": [
    "print(prob6())"
   ]
  }
 ],
 "metadata": {
  "colab": {
   "collapsed_sections": [],
   "name": "pandas1.ipynb",
   "provenance": [],
   "version": "0.3.2"
  },
  "kernelspec": {
   "display_name": ".acme-venv",
   "language": "python",
   "name": "python3"
  },
  "language_info": {
   "codemirror_mode": {
    "name": "ipython",
    "version": 3
   },
   "file_extension": ".py",
   "mimetype": "text/x-python",
   "name": "python",
   "nbconvert_exporter": "python",
   "pygments_lexer": "ipython3",
   "version": "3.10.15"
  }
 },
 "nbformat": 4,
 "nbformat_minor": 1
}
